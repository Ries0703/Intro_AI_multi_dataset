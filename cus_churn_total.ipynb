{
 "cells": [
  {
   "cell_type": "code",
   "execution_count": 6,
   "metadata": {},
   "outputs": [
    {
     "name": "stdout",
     "output_type": "stream",
     "text": [
      "['OnlineBackup', 'tenure', 'Contract', 'Total intl charge', 'Voice mail plan', 'Churn Value', 'Monthly Charges', 'RoamMins', 'PaymentMethod', 'Total eve calls', 'Number vmail messages', 'DayCalls', 'Total night charge', 'Device Protection', 'Exited', 'NumOfProducts', 'customerID', 'Account length', 'TechSupport', 'Total Spend', 'Total eve charge', 'MultipleLines', 'CLTV', 'Total eve minutes', 'Senior Citizen', 'State', 'Customer service calls', 'MonthlyCharges', 'Churn Label', 'DayMins', 'Partner', 'MonthlyCharge', 'Count', 'Latitude', 'Longitude', 'Tenure', 'Geography', 'ContractRenewal', 'Balance', 'Total Charges', 'Payment Method', 'Total day minutes', 'OverageFee', 'gender', 'StreamingTV', 'PaperlessBilling', 'Online Backup', 'DataUsage', 'DeviceProtection', 'Last Interaction', 'CreditScore', 'Paperless Billing', 'Multiple Lines', 'International plan', 'HasCrCard', 'OnlineSecurity', 'Area code', 'Total day charge', 'Streaming Movies', 'Total night minutes', 'Internet Service', 'Phone Service', 'EstimatedSalary', 'CustomerId', 'Total day calls', 'SeniorCitizen', 'RowNumber', 'Gender', 'InternetService', 'IsActiveMember', 'Churn Reason', 'Total intl minutes', 'Payment Delay', 'Usage Frequency', 'CustServCalls', 'Contract Length', 'Lat Long', 'StreamingMovies', 'Total night calls', 'Tech Support', 'Surname', 'Age', 'City', 'Support Calls', 'AccountWeeks', 'CustomerID', 'Streaming TV', 'Dependents', 'Churn', 'Total intl calls', 'Online Security', 'DataPlan', 'Subscription Type', 'PhoneService', 'Country', 'Tenure Months', 'Zip Code', 'TotalCharges', 'Churn Score']\n"
     ]
    }
   ],
   "source": [
    "import pandas as pd\n",
    "import numpy as np\n",
    "import glob\n",
    "\n",
    "# Import the pandas library\n",
    "\n",
    "# Define the file paths for the datasets\n",
    "# Get the file paths for all CSV files in the current folder\n",
    "file_paths = glob.glob('*.csv')\n",
    "# Create an empty list to store the column names\n",
    "common_features = []\n",
    "\n",
    "# Iterate over the file paths\n",
    "# Create a set to store the common features\n",
    "common_features = set()\n",
    "\n",
    "# Iterate over the file paths\n",
    "for file_path in file_paths:\n",
    "    # Read the dataset into a pandas DataFrame\n",
    "    df = pd.read_csv(file_path)\n",
    "    \n",
    "    # Get the column names of the dataset\n",
    "    column_names = df.columns.tolist()\n",
    "    \n",
    "    # Add the column names to the common_features set\n",
    "    common_features.update(column_names)\n",
    "\n",
    "# Convert the common_features set to a list\n",
    "common_features = list(common_features)\n",
    "\n",
    "# Print the common features\n",
    "print(common_features)\n",
    "\n"
   ]
  }
 ],
 "metadata": {
  "kernelspec": {
   "display_name": "Python 3",
   "language": "python",
   "name": "python3"
  },
  "language_info": {
   "codemirror_mode": {
    "name": "ipython",
    "version": 3
   },
   "file_extension": ".py",
   "mimetype": "text/x-python",
   "name": "python",
   "nbconvert_exporter": "python",
   "pygments_lexer": "ipython3",
   "version": "3.12.3"
  }
 },
 "nbformat": 4,
 "nbformat_minor": 2
}
